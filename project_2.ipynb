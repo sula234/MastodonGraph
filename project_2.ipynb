{
  "nbformat": 4,
  "nbformat_minor": 0,
  "metadata": {
    "colab": {
      "provenance": []
    },
    "kernelspec": {
      "name": "python3",
      "display_name": "Python 3"
    },
    "language_info": {
      "name": "python"
    }
  },
  "cells": [
    {
      "cell_type": "markdown",
      "source": [
        "# **Построение социального графа**\n",
        "\n",
        "В данной работе мы построим социальный граф для пользователей одного узла в платформе Mastodon. Cтоит отметить, что граф будет строиться только для пользователей зарегистрированных в главном узле, остальные пользователи не будут добавляться в граф. Ниже мы устанавливаем библиотеку **Mastodon.py** которая поможет удобно получить данные о пользователях. "
      ],
      "metadata": {
        "id": "YRAPRojZ-3eW"
      }
    },
    {
      "cell_type": "code",
      "source": [
        "!pip install Mastodon.py"
      ],
      "metadata": {
        "id": "WTzZTKBTHBLj"
      },
      "execution_count": null,
      "outputs": []
    },
    {
      "cell_type": "markdown",
      "source": [
        "Чтобы пользоваться данным API нужно будет зарегистрироваться на выбранном сервере и также после этого создать приложение использовав код ниже (приложение нужно создавать один раз для сервера). Также важно сохранить файл который указан в переменной to_file так как в нем будет храниться специальный ключ. "
      ],
      "metadata": {
        "id": "3ugHIdyOAMEX"
      }
    },
    {
      "cell_type": "code",
      "source": [
        "from mastodon import Mastodon\n",
        "\n",
        "app_name = 'social_graph'\n",
        "\n",
        "'''\n",
        "Mastodon.create_app(\n",
        "    app_name,\n",
        "    api_base_url = 'https://horrorhub.club/',\n",
        "    to_file = 'token1.txt'\n",
        ")\n",
        "'''\n"
      ],
      "metadata": {
        "id": "GCPf9H4KAM1A"
      },
      "execution_count": null,
      "outputs": []
    },
    {
      "cell_type": "markdown",
      "source": [
        "Далее запускаем функцию login и первым аргументом передаем путь к выше созданному файлу (содержащему токен), а вторым аргументом дополнительный файл который содержит личные данные (первая строчка почта, вторая пароль, третья файл в который сохранится дополнительная необходимая информация). "
      ],
      "metadata": {
        "id": "3vOdWqm8CTWw"
      }
    },
    {
      "cell_type": "code",
      "source": [
        "def login(client_id_path, personal_data_path):\n",
        "  mastodon = Mastodon(client_id=client_id_path, )\n",
        "\n",
        "  f = open(personal_data_path, \"r\")\n",
        "  mail = f.readline()\n",
        "  mail = mail.replace('\\n', '')\n",
        "\n",
        "  password = f.readline()\n",
        "  password = password.replace('\\n', '')\n",
        "\n",
        "  to_file = f.readline()\n",
        "  to_file = to_file.replace('\\n', '')\n",
        "  f.close()\n",
        "\n",
        "  mastodon.log_in(\n",
        "      mail,\n",
        "      password,\n",
        "      to_file=to_file\n",
        "  )\n",
        "\n",
        "  return mastodon\n",
        "\n",
        "mastodon = login('tokens.txt', 'psd.txt')\n",
        "\n"
      ],
      "metadata": {
        "id": "junF3RTbDiJE"
      },
      "execution_count": null,
      "outputs": []
    },
    {
      "cell_type": "markdown",
      "source": [
        "Теперь прописываем функции get_followers и get_following, которые возвращают списки никнеймов подписчиков и подписок для указанного пользователя. Данные списки могут содержать людей из других серверов, узнать их можно по псевдониму так как они содержат в имени название своего сервера. Поэтому добавляем дополнительную функцию find_main_domains, которая оставляет никнеймы людей с главного сервера и возвращает новый список. "
      ],
      "metadata": {
        "id": "L2xjy2FBFIbD"
      }
    },
    {
      "cell_type": "code",
      "source": [
        "def get_followers(self, acct):\n",
        "    user_id = Mastodon.account_lookup(self=self, acct=acct)['id']\n",
        "    followers = Mastodon.account_followers(self=mastodon, id=user_id)\n",
        "    names = []\n",
        "\n",
        "    for follower in followers:\n",
        "        names.append(follower['acct'])\n",
        "\n",
        "    return names\n",
        "\n",
        "\n",
        "def get_following(self, acct):\n",
        "    user_id = Mastodon.account_lookup(self=self, acct=acct)['id']\n",
        "    followers = Mastodon.account_following(self=mastodon, id=user_id)\n",
        "    names = []\n",
        "\n",
        "    for follower in followers:\n",
        "        names.append(follower['acct'])\n",
        "\n",
        "    return names\n",
        "\n",
        "\n",
        "def find_main_domains(followers):\n",
        "    new_list = []\n",
        "    for follower in followers:\n",
        "        if not ('@' in follower):\n",
        "            new_list.append(follower)\n",
        "\n",
        "    return new_list"
      ],
      "metadata": {
        "id": "h6zgOC9VGbQ0"
      },
      "execution_count": null,
      "outputs": []
    },
    {
      "cell_type": "markdown",
      "source": [
        "Далее используя алгоритма обхода графа (Depth-First Search), мы пишем функцию get_graphs которая заполняет два словаря. Первый followers_graph, где ключ имя, а значение список подписчиков. Второй словарь following_graph вместо списка подписчиков, содержит список подписок. "
      ],
      "metadata": {
        "id": "_TtpgU_KKLO_"
      }
    },
    {
      "cell_type": "code",
      "execution_count": null,
      "metadata": {
        "id": "pjZ6HtdD4wcD",
        "colab": {
          "base_uri": "https://localhost:8080/"
        },
        "outputId": "5258828e-8af2-4d25-ad25-6d1a65d6526c"
      },
      "outputs": [
        {
          "output_type": "stream",
          "name": "stdout",
          "text": [
            "{'zif': ['periplum', 'owl'], 'periplum': ['set', 'altimon', 'zif', 'sdatsenko', 'Bambi', 'sia', 'owl'], 'set': ['zavolodko', 'Alla', 'VBurlikov', 'olenakra', 'serhiikykot'], 'zavolodko': ['Chorna_Olena', 'set'], 'Chorna_Olena': ['Alla', 'VBurlikov', 'set'], 'Alla': ['Chorna_Olena', 'VBurlikov', 'set'], 'VBurlikov': ['Chorna_Olena', 'Alla', 'set'], 'serhiikykot': ['Alla', 'inessashel', 'VBurlikov', 'olenakra', 'set'], 'inessashel': ['set', 'olenakra'], 'olenakra': ['Alla', 'inessashel', 'VBurlikov', 'set', 'serhiikykot'], 'altimon': ['periplum'], 'Lesya': ['altimon', 'sdatsenko', 'owl', 'periplum'], 'sdatsenko': ['periplum', 'Bambi'], 'Bambi': ['sdatsenko', 'owl', 'periplum'], 'owl': ['altimon', 'OlegNitz', 'zif', 'sdatsenko', 'Bambi', 'Lesya', 'sia', 'periplum'], 'OlegNitz': [], 'sia': ['sdatsenko', 'owl', 'periplum'], 'zhenyalin': ['Lesya', 'altimon', 'periplum', 'owl'], 'nsemergey': ['owl', 'periplum'], 'lyolik': ['sdatsenko', 'periplum', 'owl']}\n"
          ]
        }
      ],
      "source": [
        "followers_graph = {}\n",
        "following_graph = {}\n",
        "\n",
        "def get_graphs(user_name):\n",
        "    if user_name in followers_graph.keys() and user_name in following_graph.keys():\n",
        "        return\n",
        "\n",
        "    # followers\n",
        "    user_followers = get_followers(self=mastodon, acct=user_name)\n",
        "    user_followers = find_main_domains(user_followers)\n",
        "    followers_graph[user_name] = user_followers\n",
        "\n",
        "    # following\n",
        "    user_following = get_following(self=mastodon, acct=user_name)\n",
        "    user_following = find_main_domains(user_following)\n",
        "    following_graph[user_name] = user_following\n",
        "\n",
        "    for follower in user_followers:\n",
        "      if follower in followers_graph.keys():\n",
        "        continue\n",
        "\n",
        "      get_graphs(follower)\n",
        "\n",
        "    for following in user_following:\n",
        "      if following in following_graph.keys():\n",
        "        continue\n",
        "\n",
        "      get_graphs(following)\n",
        "\n",
        "\n",
        "get_graphs('zif')\n",
        "print(followers_graph)"
      ]
    },
    {
      "cell_type": "markdown",
      "source": [
        "Теперь мы заполняем матрицу, которая является первой репрезентацией нашего графа. "
      ],
      "metadata": {
        "id": "v483zMFfJS9I"
      }
    },
    {
      "cell_type": "code",
      "source": [
        "import numpy as np\n",
        "\n",
        "all_users = list(followers_graph.keys())\n",
        "N = len(all_users)\n",
        "\n",
        "arr = np.zeros((N,N))\n",
        "\n",
        "for i in range(N):\n",
        "  user1 = all_users[i]\n",
        "  for j in range(N):\n",
        "    user2 = all_users[j]\n",
        "    user2_subs = followers_graph[user2]\n",
        "\n",
        "    # if user1 subscribes to user2\n",
        "    if user1 in user2_subs:\n",
        "      arr[i][j] += 1\n",
        "\n",
        "\n",
        "for i in range(N):\n",
        "  user1 = all_users[i]\n",
        "  for j in range(N):\n",
        "    user2 = all_users[j]\n",
        "    user2_subs = following_graph[user2]\n",
        "\n",
        "    # if user1 subscribes to user2\n",
        "    if user1 in user2_subs:\n",
        "      arr[i][j] += 1\n"
      ],
      "metadata": {
        "id": "OUDL5NmrJUFT"
      },
      "execution_count": null,
      "outputs": []
    },
    {
      "cell_type": "markdown",
      "source": [
        "Чтобы наглядно показать ее используем модуль pyplot. (Черный цвет на пересечении означает, что никто не подписан, зеленый, что кто-то один подписан и желтый означает взаимную подписку. "
      ],
      "metadata": {
        "id": "nRQChiyhNsGQ"
      }
    },
    {
      "cell_type": "code",
      "source": [
        "import matplotlib.pyplot as plt\n",
        "\n",
        "plt.imshow(arr)\n",
        "plt.yticks(range(N), all_users)\n",
        "plt.xticks(range(N), all_users, rotation=90)\n",
        "plt.show()"
      ],
      "metadata": {
        "colab": {
          "base_uri": "https://localhost:8080/",
          "height": 325
        },
        "id": "NPN4zfPqNtVv",
        "outputId": "576f94c0-44a2-48db-b9f6-27d61cfef05d"
      },
      "execution_count": null,
      "outputs": [
        {
          "output_type": "display_data",
          "data": {
            "text/plain": [
              "<Figure size 432x288 with 1 Axes>"
            ],
            "image/png": "[encoded data removed]"
          },
          "metadata": {
            "needs_background": "light"
          }
        }
      ]
    },
    {
      "cell_type": "markdown",
      "source": [
        "Для того чтобы построить обычный вид графа, нужно использовать дополнительные библиотеки. Однако для удобства сначала мы соберем данные в таблицу pandas. Также люди со взаимной подпиской (weight=2) буду иметь красный цвет связи, а односторонней подпиской (weight=1) синий цвет.\n",
        "\n",
        "> Блок с отступами\n",
        "\n"
      ],
      "metadata": {
        "id": "y9bYwFM2HyeK"
      }
    },
    {
      "cell_type": "code",
      "source": [
        "import pandas as pd\n",
        "\n",
        "\n",
        "dict = {'Source': ['test'],\n",
        "                   'Target': ['test'],\n",
        "                   'weight': [0],\n",
        "        'color': ['red']}\n",
        "df = pd.DataFrame(dict)\n",
        "\n",
        "some_set = []\n",
        "for i in range(N):\n",
        "  user1 = all_users[i]\n",
        "  some_set.append(user1)\n",
        "\n",
        "  for j in range(N):\n",
        "    user2 = all_users[j]\n",
        "\n",
        "    if user2 in some_set:\n",
        "      continue\n",
        "\n",
        "    weight = arr[i][j]\n",
        "    color = None\n",
        "    if weight == 2:\n",
        "      color = 'red'\n",
        "    else:\n",
        "      color = 'blue'\n",
        "\n",
        "    if weight > 0:\n",
        "      df.loc[len(df.index)] = [user1, user2, weight, color]\n",
        "\n",
        "df = df.drop(0)\n",
        "df"
      ],
      "metadata": {
        "colab": {
          "base_uri": "https://localhost:8080/",
          "height": 1000
        },
        "id": "0prZGCQcHzmZ",
        "outputId": "e24db067-0d67-430f-f39c-e72cc96fa31b"
      },
      "execution_count": null,
      "outputs": [
        {
          "output_type": "execute_result",
          "data": {
            "text/plain": [
              "          Source        Target  weight color\n",
              "1            zif      periplum     2.0   red\n",
              "2            zif           owl     2.0   red\n",
              "3       periplum           set     1.0  blue\n",
              "4       periplum       altimon     2.0   red\n",
              "5       periplum         Lesya     1.0  blue\n",
              "6       periplum     sdatsenko     2.0   red\n",
              "7       periplum         Bambi     2.0   red\n",
              "8       periplum           owl     1.0  blue\n",
              "9       periplum           sia     2.0   red\n",
              "10      periplum     zhenyalin     1.0  blue\n",
              "11      periplum     nsemergey     1.0  blue\n",
              "12      periplum        lyolik     1.0  blue\n",
              "13           set     zavolodko     2.0   red\n",
              "14           set  Chorna_Olena     1.0  blue\n",
              "15           set          Alla     2.0   red\n",
              "16           set     VBurlikov     2.0   red\n",
              "17           set   serhiikykot     2.0   red\n",
              "18           set    inessashel     1.0  blue\n",
              "19           set      olenakra     2.0   red\n",
              "20     zavolodko  Chorna_Olena     1.0  blue\n",
              "21  Chorna_Olena          Alla     2.0   red\n",
              "22  Chorna_Olena     VBurlikov     2.0   red\n",
              "23          Alla     VBurlikov     2.0   red\n",
              "24          Alla   serhiikykot     1.0  blue\n",
              "25          Alla      olenakra     1.0  blue\n",
              "26     VBurlikov   serhiikykot     1.0  blue\n",
              "27     VBurlikov      olenakra     1.0  blue\n",
              "28   serhiikykot    inessashel     1.0  blue\n",
              "29   serhiikykot      olenakra     2.0   red\n",
              "30    inessashel      olenakra     2.0   red\n",
              "31       altimon         Lesya     1.0  blue\n",
              "32       altimon           owl     1.0  blue\n",
              "33       altimon     zhenyalin     1.0  blue\n",
              "34         Lesya     sdatsenko     1.0  blue\n",
              "35         Lesya           owl     2.0   red\n",
              "36         Lesya     zhenyalin     1.0  blue\n",
              "37     sdatsenko         Bambi     2.0   red\n",
              "38     sdatsenko           owl     1.0  blue\n",
              "39     sdatsenko           sia     1.0  blue\n",
              "40     sdatsenko        lyolik     1.0  blue\n",
              "41         Bambi           owl     2.0   red\n",
              "42           owl      OlegNitz     1.0  blue\n",
              "43           owl           sia     2.0   red\n",
              "44           owl     zhenyalin     1.0  blue\n",
              "45           owl     nsemergey     1.0  blue\n",
              "46           owl        lyolik     1.0  blue"
            ],
            "text/html": [
              "\n",
              "  <div id=\"df-08914213-d677-4961-8ec5-117d739415e1\">\n",
              "    <div class=\"colab-df-container\">\n",
              "      <div>\n",
              "<style scoped>\n",
              "    .dataframe tbody tr th:only-of-type {\n",
              "        vertical-align: middle;\n",
              "    }\n",
              "\n",
              "    .dataframe tbody tr th {\n",
              "        vertical-align: top;\n",
              "    }\n",
              "\n",
              "    .dataframe thead th {\n",
              "        text-align: right;\n",
              "    }\n",
              "</style>\n",
              "<table border=\"1\" class=\"dataframe\">\n",
              "  <thead>\n",
              "    <tr style=\"text-align: right;\">\n",
              "      <th></th>\n",
              "      <th>Source</th>\n",
              "      <th>Target</th>\n",
              "      <th>weight</th>\n",
              "      <th>color</th>\n",
              "    </tr>\n",
              "  </thead>\n",
              "  <tbody>\n",
              "    <tr>\n",
              "      <th>1</th>\n",
              "      <td>zif</td>\n",
              "      <td>periplum</td>\n",
              "      <td>2.0</td>\n",
              "      <td>red</td>\n",
              "    </tr>\n",
              "    <tr>\n",
              "      <th>2</th>\n",
              "      <td>zif</td>\n",
              "      <td>owl</td>\n",
              "      <td>2.0</td>\n",
              "      <td>red</td>\n",
              "    </tr>\n",
              "    <tr>\n",
              "      <th>3</th>\n",
              "      <td>periplum</td>\n",
              "      <td>set</td>\n",
              "      <td>1.0</td>\n",
              "      <td>blue</td>\n",
              "    </tr>\n",
              "    <tr>\n",
              "      <th>4</th>\n",
              "      <td>periplum</td>\n",
              "      <td>altimon</td>\n",
              "      <td>2.0</td>\n",
              "      <td>red</td>\n",
              "    </tr>\n",
              "    <tr>\n",
              "      <th>5</th>\n",
              "      <td>periplum</td>\n",
              "      <td>Lesya</td>\n",
              "      <td>1.0</td>\n",
              "      <td>blue</td>\n",
              "    </tr>\n",
              "    <tr>\n",
              "      <th>6</th>\n",
              "      <td>periplum</td>\n",
              "      <td>sdatsenko</td>\n",
              "      <td>2.0</td>\n",
              "      <td>red</td>\n",
              "    </tr>\n",
              "    <tr>\n",
              "      <th>7</th>\n",
              "      <td>periplum</td>\n",
              "      <td>Bambi</td>\n",
              "      <td>2.0</td>\n",
              "      <td>red</td>\n",
              "    </tr>\n",
              "    <tr>\n",
              "      <th>8</th>\n",
              "      <td>periplum</td>\n",
              "      <td>owl</td>\n",
              "      <td>1.0</td>\n",
              "      <td>blue</td>\n",
              "    </tr>\n",
              "    <tr>\n",
              "      <th>9</th>\n",
              "      <td>periplum</td>\n",
              "      <td>sia</td>\n",
              "      <td>2.0</td>\n",
              "      <td>red</td>\n",
              "    </tr>\n",
              "    <tr>\n",
              "      <th>10</th>\n",
              "      <td>periplum</td>\n",
              "      <td>zhenyalin</td>\n",
              "      <td>1.0</td>\n",
              "      <td>blue</td>\n",
              "    </tr>\n",
              "    <tr>\n",
              "      <th>11</th>\n",
              "      <td>periplum</td>\n",
              "      <td>nsemergey</td>\n",
              "      <td>1.0</td>\n",
              "      <td>blue</td>\n",
              "    </tr>\n",
              "    <tr>\n",
              "      <th>12</th>\n",
              "      <td>periplum</td>\n",
              "      <td>lyolik</td>\n",
              "      <td>1.0</td>\n",
              "      <td>blue</td>\n",
              "    </tr>\n",
              "    <tr>\n",
              "      <th>13</th>\n",
              "      <td>set</td>\n",
              "      <td>zavolodko</td>\n",
              "      <td>2.0</td>\n",
              "      <td>red</td>\n",
              "    </tr>\n",
              "    <tr>\n",
              "      <th>14</th>\n",
              "      <td>set</td>\n",
              "      <td>Chorna_Olena</td>\n",
              "      <td>1.0</td>\n",
              "      <td>blue</td>\n",
              "    </tr>\n",
              "    <tr>\n",
              "      <th>15</th>\n",
              "      <td>set</td>\n",
              "      <td>Alla</td>\n",
              "      <td>2.0</td>\n",
              "      <td>red</td>\n",
              "    </tr>\n",
              "    <tr>\n",
              "      <th>16</th>\n",
              "      <td>set</td>\n",
              "      <td>VBurlikov</td>\n",
              "      <td>2.0</td>\n",
              "      <td>red</td>\n",
              "    </tr>\n",
              "    <tr>\n",
              "      <th>17</th>\n",
              "      <td>set</td>\n",
              "      <td>serhiikykot</td>\n",
              "      <td>2.0</td>\n",
              "      <td>red</td>\n",
              "    </tr>\n",
              "    <tr>\n",
              "      <th>18</th>\n",
              "      <td>set</td>\n",
              "      <td>inessashel</td>\n",
              "      <td>1.0</td>\n",
              "      <td>blue</td>\n",
              "    </tr>\n",
              "    <tr>\n",
              "      <th>19</th>\n",
              "      <td>set</td>\n",
              "      <td>olenakra</td>\n",
              "      <td>2.0</td>\n",
              "      <td>red</td>\n",
              "    </tr>\n",
              "    <tr>\n",
              "      <th>20</th>\n",
              "      <td>zavolodko</td>\n",
              "      <td>Chorna_Olena</td>\n",
              "      <td>1.0</td>\n",
              "      <td>blue</td>\n",
              "    </tr>\n",
              "    <tr>\n",
              "      <th>21</th>\n",
              "      <td>Chorna_Olena</td>\n",
              "      <td>Alla</td>\n",
              "      <td>2.0</td>\n",
              "      <td>red</td>\n",
              "    </tr>\n",
              "    <tr>\n",
              "      <th>22</th>\n",
              "      <td>Chorna_Olena</td>\n",
              "      <td>VBurlikov</td>\n",
              "      <td>2.0</td>\n",
              "      <td>red</td>\n",
              "    </tr>\n",
              "    <tr>\n",
              "      <th>23</th>\n",
              "      <td>Alla</td>\n",
              "      <td>VBurlikov</td>\n",
              "      <td>2.0</td>\n",
              "      <td>red</td>\n",
              "    </tr>\n",
              "    <tr>\n",
              "      <th>24</th>\n",
              "      <td>Alla</td>\n",
              "      <td>serhiikykot</td>\n",
              "      <td>1.0</td>\n",
              "      <td>blue</td>\n",
              "    </tr>\n",
              "    <tr>\n",
              "      <th>25</th>\n",
              "      <td>Alla</td>\n",
              "      <td>olenakra</td>\n",
              "      <td>1.0</td>\n",
              "      <td>blue</td>\n",
              "    </tr>\n",
              "    <tr>\n",
              "      <th>26</th>\n",
              "      <td>VBurlikov</td>\n",
              "      <td>serhiikykot</td>\n",
              "      <td>1.0</td>\n",
              "      <td>blue</td>\n",
              "    </tr>\n",
              "    <tr>\n",
              "      <th>27</th>\n",
              "      <td>VBurlikov</td>\n",
              "      <td>olenakra</td>\n",
              "      <td>1.0</td>\n",
              "      <td>blue</td>\n",
              "    </tr>\n",
              "    <tr>\n",
              "      <th>28</th>\n",
              "      <td>serhiikykot</td>\n",
              "      <td>inessashel</td>\n",
              "      <td>1.0</td>\n",
              "      <td>blue</td>\n",
              "    </tr>\n",
              "    <tr>\n",
              "      <th>29</th>\n",
              "      <td>serhiikykot</td>\n",
              "      <td>olenakra</td>\n",
              "      <td>2.0</td>\n",
              "      <td>red</td>\n",
              "    </tr>\n",
              "    <tr>\n",
              "      <th>30</th>\n",
              "      <td>inessashel</td>\n",
              "      <td>olenakra</td>\n",
              "      <td>2.0</td>\n",
              "      <td>red</td>\n",
              "    </tr>\n",
              "    <tr>\n",
              "      <th>31</th>\n",
              "      <td>altimon</td>\n",
              "      <td>Lesya</td>\n",
              "      <td>1.0</td>\n",
              "      <td>blue</td>\n",
              "    </tr>\n",
              "    <tr>\n",
              "      <th>32</th>\n",
              "      <td>altimon</td>\n",
              "      <td>owl</td>\n",
              "      <td>1.0</td>\n",
              "      <td>blue</td>\n",
              "    </tr>\n",
              "    <tr>\n",
              "      <th>33</th>\n",
              "      <td>altimon</td>\n",
              "      <td>zhenyalin</td>\n",
              "      <td>1.0</td>\n",
              "      <td>blue</td>\n",
              "    </tr>\n",
              "    <tr>\n",
              "      <th>34</th>\n",
              "      <td>Lesya</td>\n",
              "      <td>sdatsenko</td>\n",
              "      <td>1.0</td>\n",
              "      <td>blue</td>\n",
              "    </tr>\n",
              "    <tr>\n",
              "      <th>35</th>\n",
              "      <td>Lesya</td>\n",
              "      <td>owl</td>\n",
              "      <td>2.0</td>\n",
              "      <td>red</td>\n",
              "    </tr>\n",
              "    <tr>\n",
              "      <th>36</th>\n",
              "      <td>Lesya</td>\n",
              "      <td>zhenyalin</td>\n",
              "      <td>1.0</td>\n",
              "      <td>blue</td>\n",
              "    </tr>\n",
              "    <tr>\n",
              "      <th>37</th>\n",
              "      <td>sdatsenko</td>\n",
              "      <td>Bambi</td>\n",
              "      <td>2.0</td>\n",
              "      <td>red</td>\n",
              "    </tr>\n",
              "    <tr>\n",
              "      <th>38</th>\n",
              "      <td>sdatsenko</td>\n",
              "      <td>owl</td>\n",
              "      <td>1.0</td>\n",
              "      <td>blue</td>\n",
              "    </tr>\n",
              "    <tr>\n",
              "      <th>39</th>\n",
              "      <td>sdatsenko</td>\n",
              "      <td>sia</td>\n",
              "      <td>1.0</td>\n",
              "      <td>blue</td>\n",
              "    </tr>\n",
              "    <tr>\n",
              "      <th>40</th>\n",
              "      <td>sdatsenko</td>\n",
              "      <td>lyolik</td>\n",
              "      <td>1.0</td>\n",
              "      <td>blue</td>\n",
              "    </tr>\n",
              "    <tr>\n",
              "      <th>41</th>\n",
              "      <td>Bambi</td>\n",
              "      <td>owl</td>\n",
              "      <td>2.0</td>\n",
              "      <td>red</td>\n",
              "    </tr>\n",
              "    <tr>\n",
              "      <th>42</th>\n",
              "      <td>owl</td>\n",
              "      <td>OlegNitz</td>\n",
              "      <td>1.0</td>\n",
              "      <td>blue</td>\n",
              "    </tr>\n",
              "    <tr>\n",
              "      <th>43</th>\n",
              "      <td>owl</td>\n",
              "      <td>sia</td>\n",
              "      <td>2.0</td>\n",
              "      <td>red</td>\n",
              "    </tr>\n",
              "    <tr>\n",
              "      <th>44</th>\n",
              "      <td>owl</td>\n",
              "      <td>zhenyalin</td>\n",
              "      <td>1.0</td>\n",
              "      <td>blue</td>\n",
              "    </tr>\n",
              "    <tr>\n",
              "      <th>45</th>\n",
              "      <td>owl</td>\n",
              "      <td>nsemergey</td>\n",
              "      <td>1.0</td>\n",
              "      <td>blue</td>\n",
              "    </tr>\n",
              "    <tr>\n",
              "      <th>46</th>\n",
              "      <td>owl</td>\n",
              "      <td>lyolik</td>\n",
              "      <td>1.0</td>\n",
              "      <td>blue</td>\n",
              "    </tr>\n",
              "  </tbody>\n",
              "</table>\n",
              "</div>\n",
              "      <button class=\"colab-df-convert\" onclick=\"convertToInteractive('df-08914213-d677-4961-8ec5-117d739415e1')\"\n",
              "              title=\"Convert this dataframe to an interactive table.\"\n",
              "              style=\"display:none;\">\n",
              "        \n",
              "  <svg xmlns=\"http://www.w3.org/2000/svg\" height=\"24px\"viewBox=\"0 0 24 24\"\n",
              "       width=\"24px\">\n",
              "    <path d=\"M0 0h24v24H0V0z\" fill=\"none\"/>\n",
              "    <path d=\"M18.56 5.44l.94 2.06.94-2.06 2.06-.94-2.06-.94-.94-2.06-.94 2.06-2.06.94zm-11 1L8.5 8.5l.94-2.06 2.06-.94-2.06-.94L8.5 2.5l-.94 2.06-2.06.94zm10 10l.94 2.06.94-2.06 2.06-.94-2.06-.94-.94-2.06-.94 2.06-2.06.94z\"/><path d=\"M17.41 7.96l-1.37-1.37c-.4-.4-.92-.59-1.43-.59-.52 0-1.04.2-1.43.59L10.3 9.45l-7.72 7.72c-.78.78-.78 2.05 0 2.83L4 21.41c.39.39.9.59 1.41.59.51 0 1.02-.2 1.41-.59l7.78-7.78 2.81-2.81c.8-.78.8-2.07 0-2.86zM5.41 20L4 18.59l7.72-7.72 1.47 1.35L5.41 20z\"/>\n",
              "  </svg>\n",
              "      </button>\n",
              "      \n",
              "  <style>\n",
              "    .colab-df-container {\n",
              "      display:flex;\n",
              "      flex-wrap:wrap;\n",
              "      gap: 12px;\n",
              "    }\n",
              "\n",
              "    .colab-df-convert {\n",
              "      background-color: #E8F0FE;\n",
              "      border: none;\n",
              "      border-radius: 50%;\n",
              "      cursor: pointer;\n",
              "      display: none;\n",
              "      fill: #1967D2;\n",
              "      height: 32px;\n",
              "      padding: 0 0 0 0;\n",
              "      width: 32px;\n",
              "    }\n",
              "\n",
              "    .colab-df-convert:hover {\n",
              "      background-color: #E2EBFA;\n",
              "      box-shadow: 0px 1px 2px rgba(60, 64, 67, 0.3), 0px 1px 3px 1px rgba(60, 64, 67, 0.15);\n",
              "      fill: #174EA6;\n",
              "    }\n",
              "\n",
              "    [theme=dark] .colab-df-convert {\n",
              "      background-color: #3B4455;\n",
              "      fill: #D2E3FC;\n",
              "    }\n",
              "\n",
              "    [theme=dark] .colab-df-convert:hover {\n",
              "      background-color: #434B5C;\n",
              "      box-shadow: 0px 1px 3px 1px rgba(0, 0, 0, 0.15);\n",
              "      filter: drop-shadow(0px 1px 2px rgba(0, 0, 0, 0.3));\n",
              "      fill: #FFFFFF;\n",
              "    }\n",
              "  </style>\n",
              "\n",
              "      <script>\n",
              "        const buttonEl =\n",
              "          document.querySelector('#df-08914213-d677-4961-8ec5-117d739415e1 button.colab-df-convert');\n",
              "        buttonEl.style.display =\n",
              "          google.colab.kernel.accessAllowed ? 'block' : 'none';\n",
              "\n",
              "        async function convertToInteractive(key) {\n",
              "          const element = document.querySelector('#df-08914213-d677-4961-8ec5-117d739415e1');\n",
              "          const dataTable =\n",
              "            await google.colab.kernel.invokeFunction('convertToInteractive',\n",
              "                                                     [key], {});\n",
              "          if (!dataTable) return;\n",
              "\n",
              "          const docLinkHtml = 'Like what you see? Visit the ' +\n",
              "            '<a target=\"_blank\" href=https://colab.research.google.com/notebooks/data_table.ipynb>data table notebook</a>'\n",
              "            + ' to learn more about interactive tables.';\n",
              "          element.innerHTML = '';\n",
              "          dataTable['output_type'] = 'display_data';\n",
              "          await google.colab.output.renderOutput(dataTable, element);\n",
              "          const docLink = document.createElement('div');\n",
              "          docLink.innerHTML = docLinkHtml;\n",
              "          element.appendChild(docLink);\n",
              "        }\n",
              "      </script>\n",
              "    </div>\n",
              "  </div>\n",
              "  "
            ]
          },
          "metadata": {},
          "execution_count": 9
        }
      ]
    },
    {
      "cell_type": "markdown",
      "source": [
        "Теперь с помощью networkx строим простой граф"
      ],
      "metadata": {
        "id": "1-XqqK3AZebx"
      }
    },
    {
      "cell_type": "code",
      "source": [
        "import networkx as nx\n",
        "\n",
        "G = nx.from_pandas_edgelist(df, source='Source', target='Target', edge_attr=['weight', 'color'])\n",
        "nx.draw(G)"
      ],
      "metadata": {
        "colab": {
          "base_uri": "https://localhost:8080/",
          "height": 319
        },
        "id": "lLkeC8TPZesH",
        "outputId": "ff6f47b9-a643-4db4-d36d-78f9fa776c30"
      },
      "execution_count": null,
      "outputs": [
        {
          "output_type": "display_data",
          "data": {
            "text/plain": [
              "<Figure size 432x288 with 1 Axes>"
            ],
            "image/png": "[encoded data removed]"
          },
          "metadata": {}
        }
      ]
    },
    {
      "cell_type": "markdown",
      "source": [
        "Однако чтобы построить более детальный и даже анимированный граф, устанавливаем библиотеку pyvis.\n"
      ],
      "metadata": {
        "id": "Qb9o3PgpTQvf"
      }
    },
    {
      "cell_type": "code",
      "source": [
        "!pip install pyvis"
      ],
      "metadata": {
        "colab": {
          "base_uri": "https://localhost:8080/"
        },
        "id": "V1BOvQFFdcjN",
        "outputId": "e472a4e3-faee-43a1-a1ab-90cd74fd5e59"
      },
      "execution_count": null,
      "outputs": [
        {
          "output_type": "stream",
          "name": "stdout",
          "text": [
            "Looking in indexes: https://pypi.org/simple, https://us-python.pkg.dev/colab-wheels/public/simple/\n",
            "Collecting pyvis\n",
            "  Downloading pyvis-0.3.1.tar.gz (748 kB)\n",
            "\u001b[2K     \u001b[90m━━━━━━━━━━━━━━━━━━━━━━━━━━━━━━━━━━━━━━\u001b[0m \u001b[32m748.9/748.9 KB\u001b[0m \u001b[31m18.7 MB/s\u001b[0m eta \u001b[36m0:00:00\u001b[0m\n",
            "\u001b[?25h  Preparing metadata (setup.py) ... \u001b[?25l\u001b[?25hdone\n",
            "Requirement already satisfied: jinja2>=2.9.6 in /usr/local/lib/python3.8/dist-packages (from pyvis) (2.11.3)\n",
            "Requirement already satisfied: networkx>=1.11 in /usr/local/lib/python3.8/dist-packages (from pyvis) (3.0)\n",
            "Requirement already satisfied: ipython>=5.3.0 in /usr/local/lib/python3.8/dist-packages (from pyvis) (7.9.0)\n",
            "Collecting jsonpickle>=1.4.1\n",
            "  Downloading jsonpickle-3.0.1-py2.py3-none-any.whl (40 kB)\n",
            "\u001b[2K     \u001b[90m━━━━━━━━━━━━━━━━━━━━━━━━━━━━━━━━━━━━━━━━\u001b[0m \u001b[32m40.5/40.5 KB\u001b[0m \u001b[31m4.5 MB/s\u001b[0m eta \u001b[36m0:00:00\u001b[0m\n",
            "\u001b[?25hRequirement already satisfied: pickleshare in /usr/local/lib/python3.8/dist-packages (from ipython>=5.3.0->pyvis) (0.7.5)\n",
            "Requirement already satisfied: traitlets>=4.2 in /usr/local/lib/python3.8/dist-packages (from ipython>=5.3.0->pyvis) (5.7.1)\n",
            "Requirement already satisfied: backcall in /usr/local/lib/python3.8/dist-packages (from ipython>=5.3.0->pyvis) (0.2.0)\n",
            "Requirement already satisfied: decorator in /usr/local/lib/python3.8/dist-packages (from ipython>=5.3.0->pyvis) (4.4.2)\n",
            "Requirement already satisfied: setuptools>=18.5 in /usr/local/lib/python3.8/dist-packages (from ipython>=5.3.0->pyvis) (57.4.0)\n",
            "Requirement already satisfied: prompt-toolkit<2.1.0,>=2.0.0 in /usr/local/lib/python3.8/dist-packages (from ipython>=5.3.0->pyvis) (2.0.10)\n",
            "Collecting jedi>=0.10\n",
            "  Downloading jedi-0.18.2-py2.py3-none-any.whl (1.6 MB)\n",
            "\u001b[2K     \u001b[90m━━━━━━━━━━━━━━━━━━━━━━━━━━━━━━━━━━━━━━━━\u001b[0m \u001b[32m1.6/1.6 MB\u001b[0m \u001b[31m65.8 MB/s\u001b[0m eta \u001b[36m0:00:00\u001b[0m\n",
            "\u001b[?25hRequirement already satisfied: pygments in /usr/local/lib/python3.8/dist-packages (from ipython>=5.3.0->pyvis) (2.6.1)\n",
            "Requirement already satisfied: pexpect in /usr/local/lib/python3.8/dist-packages (from ipython>=5.3.0->pyvis) (4.8.0)\n",
            "Requirement already satisfied: MarkupSafe>=0.23 in /usr/local/lib/python3.8/dist-packages (from jinja2>=2.9.6->pyvis) (2.0.1)\n",
            "Requirement already satisfied: parso<0.9.0,>=0.8.0 in /usr/local/lib/python3.8/dist-packages (from jedi>=0.10->ipython>=5.3.0->pyvis) (0.8.3)\n",
            "Requirement already satisfied: six>=1.9.0 in /usr/local/lib/python3.8/dist-packages (from prompt-toolkit<2.1.0,>=2.0.0->ipython>=5.3.0->pyvis) (1.15.0)\n",
            "Requirement already satisfied: wcwidth in /usr/local/lib/python3.8/dist-packages (from prompt-toolkit<2.1.0,>=2.0.0->ipython>=5.3.0->pyvis) (0.2.5)\n",
            "Requirement already satisfied: ptyprocess>=0.5 in /usr/local/lib/python3.8/dist-packages (from pexpect->ipython>=5.3.0->pyvis) (0.7.0)\n",
            "Building wheels for collected packages: pyvis\n",
            "  Building wheel for pyvis (setup.py) ... \u001b[?25l\u001b[?25hdone\n",
            "  Created wheel for pyvis: filename=pyvis-0.3.1-py3-none-any.whl size=755850 sha256=cff4fbb7fc4f6d9fc5faf204f5aa081a590a00bb8fb721e4a6847f300e819883\n",
            "  Stored in directory: /root/.cache/pip/wheels/a4/0c/61/8469ca276f96ab772c3acc7f47d71e9737cbdf6f446f017f48\n",
            "Successfully built pyvis\n",
            "Installing collected packages: jsonpickle, jedi, pyvis\n",
            "Successfully installed jedi-0.18.2 jsonpickle-3.0.1 pyvis-0.3.1\n"
          ]
        }
      ]
    },
    {
      "cell_type": "markdown",
      "source": [
        "После выполнения кода ниже, скачивается html файл. Открываем его и смотрим на результат. "
      ],
      "metadata": {
        "id": "Av3z1ZqJTcDU"
      }
    },
    {
      "cell_type": "code",
      "source": [
        "from pyvis.network import Network\n",
        "\n",
        "net = Network(notebook=True)\n",
        "\n",
        "net.from_nx(G)\n",
        "net.show('graph1.html')"
      ],
      "metadata": {
        "colab": {
          "base_uri": "https://localhost:8080/",
          "height": 638
        },
        "id": "t057O0SIdUGJ",
        "outputId": "6c12f38b-93d5-4480-e641-098fd4878bfe"
      },
      "execution_count": null,
      "outputs": [
        {
          "output_type": "stream",
          "name": "stdout",
          "text": [
            "Local cdn resources have problems on chrome/safari when used in jupyter-notebook. \n"
          ]
        },
        {
          "output_type": "execute_result",
          "data": {
            "text/plain": [
              "<IPython.lib.display.IFrame at 0x7ff0feef2e20>"
            ],
            "text/html": [
              "\n",
              "        <iframe\n",
              "            width=\"100%\"\n",
              "            height=\"600px\"\n",
              "            src=\"graph1.html\"\n",
              "            frameborder=\"0\"\n",
              "            allowfullscreen\n",
              "        ></iframe>\n",
              "        "
            ]
          },
          "metadata": {},
          "execution_count": 12
        }
      ]
    }
  ]
}